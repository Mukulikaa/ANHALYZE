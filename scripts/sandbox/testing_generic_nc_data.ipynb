{
 "cells": [
  {
   "cell_type": "code",
   "execution_count": 3,
   "id": "53e6cf88",
   "metadata": {},
   "outputs": [],
   "source": [
    "#import datetime as dt  # Python standard library datetime  module\n",
    "import numpy as np\n",
    "#from netCDF4 import Dataset  # http://code.google.com/p/netcdf4-python/\n",
    "import netCDF4 as nc\n",
    "import geopandas as gpd\n",
    "import matplotlib.pyplot as plt\n",
    "#from mpl_toolkits.basemap import Basemap, addcyclic, shiftgrid\n",
    "\n",
    "import ncdump_test\n"
   ]
  },
  {
   "cell_type": "code",
   "execution_count": 2,
   "id": "d6fb4b38",
   "metadata": {},
   "outputs": [
    {
     "data": {
      "text/plain": [
       "<class 'netCDF4._netCDF4.Dataset'>\n",
       "root group (NETCDF4 data model, file format HDF5):\n",
       "    start_year: 1982\n",
       "    source: Daymet Software Version 4.0\n",
       "    Version_software: Daymet Software Version 4.0\n",
       "    Version_data: Daymet Data Version 4.0\n",
       "    Conventions: CF-1.6\n",
       "    citation: Please see http://daymet.ornl.gov/ for current Daymet data citation information\n",
       "    references: Please see http://daymet.ornl.gov/ for current information on Daymet references\n",
       "    dimensions(sizes): time(1), nv(2), y(584), x(284)\n",
       "    variables(dimensions): float32 time_bnds(time, nv), int16 lambert_conformal_conic(), float32 lat(y, x), float32 lon(y, x), float32 prcp(time, y, x), float32 time(time), float32 x(x), float32 y(y)\n",
       "    groups: "
      ]
     },
     "execution_count": 2,
     "metadata": {},
     "output_type": "execute_result"
    }
   ],
   "source": [
    "#test data from Dayment\n",
    "test_data = nc.Dataset(\"../Test_Data/daymet_v4_prcp_annttl_hi_1982.nc\")\n",
    "test_data"
   ]
  },
  {
   "cell_type": "code",
   "execution_count": 5,
   "id": "8a139b71",
   "metadata": {},
   "outputs": [
    {
     "name": "stdout",
     "output_type": "stream",
     "text": [
      "NetCDF Global Attributes:\n",
      "\tstart_year: 1982\n",
      "\tsource: 'Daymet Software Version 4.0'\n",
      "\tVersion_software: 'Daymet Software Version 4.0'\n",
      "\tVersion_data: 'Daymet Data Version 4.0'\n",
      "\tConventions: 'CF-1.6'\n",
      "\tcitation: 'Please see http://daymet.ornl.gov/ for current Daymet data citation information'\n",
      "\treferences: 'Please see http://daymet.ornl.gov/ for current information on Daymet references'\n",
      "NetCDF dimension information:\n",
      "\tName: time\n",
      "\t\tsize: 1\n",
      "\t\ttype: dtype('float32')\n",
      "\t\tstandard_name: 'time'\n",
      "\t\tcalendar: 'standard'\n",
      "\t\tunits: 'days since 1950-01-01 00:00:00'\n",
      "\t\tbounds: 'time_bnds'\n",
      "\t\tlong_name: '24-hour day based on local time'\n",
      "\tName: nv\n",
      "\t\tsize: 2\n",
      "\t\tWARNING: nv does not contain variable attributes\n",
      "\tName: y\n",
      "\t\tsize: 584\n",
      "\t\ttype: dtype('float32')\n",
      "\t\tunits: 'm'\n",
      "\t\tlong_name: 'y coordinate of projection'\n",
      "\t\tstandard_name: 'projection_y_coordinate'\n",
      "\tName: x\n",
      "\t\tsize: 284\n",
      "\t\ttype: dtype('float32')\n",
      "\t\tunits: 'm'\n",
      "\t\tlong_name: 'x coordinate of projection'\n",
      "\t\tstandard_name: 'projection_x_coordinate'\n",
      "NetCDF variable information:\n",
      "\tName: time_bnds\n",
      "\t\tdimensions: ('time', 'nv')\n",
      "\t\tsize: 2\n",
      "\t\ttype: dtype('float32')\n",
      "\t\ttime: 'days since 1950-01-01 00:00:00'\n",
      "\tName: lambert_conformal_conic\n",
      "\t\tdimensions: ()\n",
      "\t\tsize: 1\n",
      "\t\ttype: dtype('int16')\n",
      "\t\tgrid_mapping_name: 'lambert_conformal_conic'\n",
      "\t\tlongitude_of_central_meridian: -100.0\n",
      "\t\tlatitude_of_projection_origin: 42.5\n",
      "\t\tfalse_easting: 0.0\n",
      "\t\tfalse_northing: 0.0\n",
      "\t\tstandard_parallel: array([25., 60.])\n",
      "\t\tsemi_major_axis: 6378137.0\n",
      "\t\tinverse_flattening: 298.257223563\n",
      "\tName: lat\n",
      "\t\tdimensions: ('y', 'x')\n",
      "\t\tsize: 165856\n",
      "\t\ttype: dtype('float32')\n",
      "\t\tunits: 'degrees_north'\n",
      "\t\tlong_name: 'latitude coordinate'\n",
      "\t\tstandard_name: 'latitude'\n",
      "\tName: lon\n",
      "\t\tdimensions: ('y', 'x')\n",
      "\t\tsize: 165856\n",
      "\t\ttype: dtype('float32')\n",
      "\t\tunits: 'degrees_east'\n",
      "\t\tlong_name: 'longitude coordinate'\n",
      "\t\tstandard_name: 'longitude'\n",
      "\tName: prcp\n",
      "\t\tdimensions: ('time', 'y', 'x')\n",
      "\t\tsize: 165856\n",
      "\t\ttype: dtype('float32')\n",
      "\t\t_FillValue: -9999.0\n",
      "\t\tmissing_value: -9999.0\n",
      "\t\tcoordinates: 'lat lon'\n",
      "\t\tgrid_mapping: 'lambert_conformal_conic'\n",
      "\t\tcell_methods: 'area: mean time: sum within days time: sum over days'\n",
      "\t\tunits: 'mm'\n",
      "\t\tlong_name: 'annual total precipitation'\n"
     ]
    }
   ],
   "source": [
    "test_data_nc_attrs, test_data_nc_dims, test_data_nc_vars = ncdump_test.ncdump(test_data)"
   ]
  },
  {
   "cell_type": "code",
   "execution_count": 6,
   "id": "8c89a4bc",
   "metadata": {},
   "outputs": [
    {
     "data": {
      "text/plain": [
       "(['start_year',\n",
       "  'source',\n",
       "  'Version_software',\n",
       "  'Version_data',\n",
       "  'Conventions',\n",
       "  'citation',\n",
       "  'references'],\n",
       " ['time', 'nv', 'y', 'x'],\n",
       " ['time_bnds',\n",
       "  'lambert_conformal_conic',\n",
       "  'lat',\n",
       "  'lon',\n",
       "  'prcp',\n",
       "  'time',\n",
       "  'x',\n",
       "  'y'])"
      ]
     },
     "execution_count": 6,
     "metadata": {},
     "output_type": "execute_result"
    }
   ],
   "source": [
    "test_data_nc_attrs, test_data_nc_dims, test_data_nc_vars"
   ]
  },
  {
   "cell_type": "code",
   "execution_count": 13,
   "id": "803fda20",
   "metadata": {},
   "outputs": [],
   "source": [
    "precipitation = test_data['prcp'][:]\n",
    "lat = test_data['lat'][:]\n",
    "lon =test_data['lon'][:]"
   ]
  },
  {
   "cell_type": "code",
   "execution_count": 17,
   "id": "8772383f",
   "metadata": {},
   "outputs": [
    {
     "name": "stdout",
     "output_type": "stream",
     "text": [
      "(584, 284)\n",
      "(584, 284)\n",
      "(1, 584, 284)\n"
     ]
    }
   ],
   "source": [
    "print(lon.shape)\n",
    "print(lat.shape)\n",
    "print(precipitation.shape)   "
   ]
  },
  {
   "cell_type": "code",
   "execution_count": null,
   "id": "7c3fe83c",
   "metadata": {},
   "outputs": [],
   "source": []
  },
  {
   "cell_type": "code",
   "execution_count": null,
   "id": "736be749",
   "metadata": {},
   "outputs": [],
   "source": []
  },
  {
   "cell_type": "code",
   "execution_count": null,
   "id": "b7369594",
   "metadata": {},
   "outputs": [],
   "source": []
  },
  {
   "cell_type": "code",
   "execution_count": 12,
   "id": "fa13605b",
   "metadata": {},
   "outputs": [
    {
     "data": {
      "text/plain": [
       "<matplotlib.image.AxesImage at 0x11d04a9b0>"
      ]
     },
     "execution_count": 12,
     "metadata": {},
     "output_type": "execute_result"
    },
    {
     "data": {
      "image/png": "[encoded data removed]",
      "text/plain": [
       "<Figure size 640x480 with 1 Axes>"
      ]
     },
     "metadata": {},
     "output_type": "display_data"
    }
   ],
   "source": [
    "#plotting data\n",
    "plt.imshow(precipitation[0,:,:],)\n",
    "\n"
   ]
  },
  {
   "cell_type": "code",
   "execution_count": null,
   "id": "17b747c7",
   "metadata": {},
   "outputs": [],
   "source": []
  },
  {
   "cell_type": "code",
   "execution_count": null,
   "id": "ee0d0b48",
   "metadata": {},
   "outputs": [],
   "source": []
  },
  {
   "cell_type": "code",
   "execution_count": 19,
   "id": "3d8d58ee",
   "metadata": {},
   "outputs": [],
   "source": [
    "from mpl_toolkits.\n"
   ]
  },
  {
   "cell_type": "code",
   "execution_count": null,
   "id": "4916a86c",
   "metadata": {},
   "outputs": [],
   "source": [
    "test_data\n",
    "prcp = test_data['prcp']\n",
    "prcp\n",
    "type(prcp)\n",
    "prcp3 = test_data['prcp'][:]\n",
    "prcp3\n",
    "prcp3.shape\n",
    "prcp3[0,500,200]\n",
    "prcp3[0,500:505,200:230]\n",
    "\n",
    "\n",
    "\n",
    "\n",
    "prcp = test_data['prcp']\n",
    "prcp\n",
    "type(prcp)\n",
    "\n",
    "prcp3\n",
    "prcp3.shape\n",
    "prcp3[0,500,200]\n",
    "prcp3[0,500:505,200:230]\n",
    "import geopandas as gpd\n",
    "history\n",
    "plt.figure()\n",
    "import matplotlib.pyplot as plt\n",
    "plt.figure()\n",
    "plt.plot(prcp3[0,:,:])\n",
    "plt.show()\n",
    "plt.figure()\n",
    "plt.imshow(prcp3[0,:,:])\n",
    "plt.show()\n"
   ]
  }
 ],
 "metadata": {
  "kernelspec": {
   "display_name": "Python 3 (ipykernel)",
   "language": "python",
   "name": "python3"
  },
  "language_info": {
   "codemirror_mode": {
    "name": "ipython",
    "version": 3
   },
   "file_extension": ".py",
   "mimetype": "text/x-python",
   "name": "python",
   "nbconvert_exporter": "python",
   "pygments_lexer": "ipython3",
   "version": "3.7.3"
  }
 },
 "nbformat": 4,
 "nbformat_minor": 5
}
