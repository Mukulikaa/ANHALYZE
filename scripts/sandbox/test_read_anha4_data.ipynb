{
 "cells": [
  {
   "cell_type": "markdown",
   "id": "05cb4080",
   "metadata": {},
   "source": [
    "NOTE: \n",
    "\n",
    "    - Could create unit test from this.\n",
    "\n"
   ]
  },
  {
   "cell_type": "code",
   "execution_count": 2,
   "id": "437873bd",
   "metadata": {},
   "outputs": [],
   "source": [
    "import netCDF4 as nc\n",
    "import os\n"
   ]
  },
  {
   "cell_type": "code",
   "execution_count": 9,
   "id": "d117449a",
   "metadata": {},
   "outputs": [],
   "source": [
    "#data path\n",
    "data_path = '/mnt/storage0/jmarson/NEMO/ANHA4/ANHA4-EPM111-S/'\n",
    "\n",
    "#get complete file list from path\n",
    "file_list = os.listdir(data_path)"
   ]
  },
  {
   "cell_type": "code",
   "execution_count": 8,
   "id": "8ea2a2c0",
   "metadata": {},
   "outputs": [
    {
     "data": {
      "text/plain": [
       "26634"
      ]
     },
     "execution_count": 8,
     "metadata": {},
     "output_type": "execute_result"
    }
   ],
   "source": []
  },
  {
   "cell_type": "code",
   "execution_count": 12,
   "id": "1184a462",
   "metadata": {},
   "outputs": [
    {
     "data": {
      "text/plain": [
       "['ANHA4-EPM111_y1998m04d05_gridT.nc',\n",
       " 'ANHA4-EPM111_y1998m04d15_gridT.nc',\n",
       " 'ANHA4-EPM111_y1998m04d20_gridT.nc',\n",
       " 'ANHA4-EPM111_y1998m04d10_gridT.nc',\n",
       " 'ANHA4-EPM111_y1998m04d30_gridT.nc',\n",
       " 'ANHA4-EPM111_y1998m04d25_gridT.nc']"
      ]
     },
     "execution_count": 12,
     "metadata": {},
     "output_type": "execute_result"
    }
   ],
   "source": [
    "#Set interesting params\n",
    "\n",
    "year= '1998'\n",
    "month = '04'\n",
    "grid = 'T'\n",
    "\n",
    "#selecting list of files given params\n",
    "file_list = [ f for f in file_list if 'y'+year in f and 'm'+month in f and 'grid'+grid in f]\n",
    "file_list\n"
   ]
  },
  {
   "cell_type": "code",
   "execution_count": 16,
   "id": "ef245d45",
   "metadata": {},
   "outputs": [
    {
     "data": {
      "text/plain": [
       "<class 'netCDF4._netCDF4.Dataset'>\n",
       "root group (NETCDF4 data model, file format HDF5):\n",
       "    name: ANHA4-EPM111\n",
       "    description: ocean T grid variables\n",
       "    title: ocean T grid variables\n",
       "    Conventions: CF-1.6\n",
       "    timeStamp: 2021-Apr-30 04:32:23 EDT\n",
       "    dimensions(sizes): axis_nbounds(2), x_grid_T(544), y_grid_T(800), deptht(50), x_grid_W(544), y_grid_W(800), depthw(50), time_counter(1)\n",
       "    variables(dimensions): float32 nav_lat_grid_T(y_grid_T, x_grid_T), float32 nav_lon_grid_T(y_grid_T, x_grid_T), float32 deptht(deptht), float32 deptht_bounds(deptht, axis_nbounds), float32 nav_lat_grid_W(y_grid_W, x_grid_W), float32 nav_lon_grid_W(y_grid_W, x_grid_W), float32 depthw(depthw), float32 depthw_bounds(depthw, axis_nbounds), float32 votemper(time_counter, deptht, y_grid_T, x_grid_T), float64 time_centered(time_counter), float64 time_centered_bounds(time_counter, axis_nbounds), float64 time_counter(time_counter), float64 time_counter_bounds(time_counter, axis_nbounds), float32 vosaline(time_counter, deptht, y_grid_T, x_grid_T), float32 sossheig(time_counter, y_grid_T, x_grid_T), float32 somxl010(time_counter, y_grid_T, x_grid_T), float32 sohmld(time_counter, y_grid_T, x_grid_T), float32 somxlts(time_counter, y_grid_T, x_grid_T), float32 avt_evd(time_counter, depthw, y_grid_W, x_grid_W), float32 vopo4(time_counter, deptht, y_grid_T, x_grid_T), float32 vodop(time_counter, deptht, y_grid_T, x_grid_T), float32 vofed(time_counter, deptht, y_grid_T, x_grid_T), float32 vooxy(time_counter, deptht, y_grid_T, x_grid_T), float32 vodic(time_counter, deptht, y_grid_T, x_grid_T), float32 voalk(time_counter, deptht, y_grid_T, x_grid_T), float32 chl(time_counter, deptht, y_grid_T, x_grid_T), float32 TRC07(time_counter, deptht, y_grid_T, x_grid_T), float32 TRC08(time_counter, deptht, y_grid_T, x_grid_T), float32 TRC09(time_counter, deptht, y_grid_T, x_grid_T), float32 TRC10(time_counter, deptht, y_grid_T, x_grid_T), float32 TRC11(time_counter, deptht, y_grid_T, x_grid_T), float32 TRC12(time_counter, deptht, y_grid_T, x_grid_T), float32 TRC13(time_counter, deptht, y_grid_T, x_grid_T), float32 e3t(time_counter, deptht, y_grid_T, x_grid_T)\n",
       "    groups: "
      ]
     },
     "execution_count": 16,
     "metadata": {},
     "output_type": "execute_result"
    }
   ],
   "source": [
    "#\n",
    "data_sample = nc.Dataset(data_path+file_list[0])\n",
    "data_sample\n"
   ]
  },
  {
   "cell_type": "code",
   "execution_count": null,
   "id": "b9a7173c",
   "metadata": {},
   "outputs": [],
   "source": []
  }
 ],
 "metadata": {
  "kernelspec": {
   "display_name": "Python 3 (ipykernel)",
   "language": "python",
   "name": "python3"
  },
  "language_info": {
   "codemirror_mode": {
    "name": "ipython",
    "version": 3
   },
   "file_extension": ".py",
   "mimetype": "text/x-python",
   "name": "python",
   "nbconvert_exporter": "python",
   "pygments_lexer": "ipython3",
   "version": "3.7.3"
  }
 },
 "nbformat": 4,
 "nbformat_minor": 5
}
